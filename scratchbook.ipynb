{
 "cells": [
  {
   "cell_type": "code",
   "execution_count": 1,
   "id": "a16f802e",
   "metadata": {},
   "outputs": [],
   "source": [
    "from pathlib import Path\n",
    "import pandas as pd\n",
    "import xarray as xr\n",
    "import yaml\n",
    "import numpy as np\n",
    "from itertools import zip_longest\n",
    "from dask.diagnostics import ProgressBar\n",
    "\n",
    "def load_global(config=\"global\"):\n",
    "    with open(f\"configs/{config}.yaml\", \"r\") as f:\n",
    "        return yaml.safe_load(f)\n",
    "    \n",
    "cfg = load_global()\n",
    "cfm = load_global(config=\"datapp_de\")\n"
   ]
  },
  {
   "cell_type": "code",
   "execution_count": 1,
   "id": "d98fd36f",
   "metadata": {},
   "outputs": [],
   "source": [
    "import numpy as np"
   ]
  },
  {
   "cell_type": "code",
   "execution_count": 5,
   "id": "311a9cd7",
   "metadata": {},
   "outputs": [],
   "source": [
    "x = np.load(\"factors_final.npy\")\n",
    "sec = np.load(\"sector_list.npy\")\n",
    "spe = np.load(\"species_list.npy\")"
   ]
  },
  {
   "cell_type": "code",
   "execution_count": 7,
   "id": "bc7f4205",
   "metadata": {},
   "outputs": [
    {
     "data": {
      "text/plain": [
       "array(['alcohols_flux', 'ethane_flux', 'propane_flux', 'butanes_flux',\n",
       "       'pentanes_flux', 'hexanes_and_higher_alkanes_flux', 'ethene_flux',\n",
       "       'propene_flux', 'ethyne_flux', 'isoprene_flux',\n",
       "       'monoterpenes_flux', 'other_alkenes_and_alkynes_flux',\n",
       "       'benzene_flux', 'toluene_flux', 'xylene_flux',\n",
       "       'trimethyl_benzenes_flux', 'other_aromatics_flux', 'esters_flux',\n",
       "       'ethers_flux', 'chlorinated_HC_flux', 'formaldehyde_flux',\n",
       "       'other_alkanals_flux', 'ketones_flux', 'acids_flux',\n",
       "       'other_VOC_flux'], dtype='<U31')"
      ]
     },
     "execution_count": 7,
     "metadata": {},
     "output_type": "execute_result"
    }
   ],
   "source": [
    "spe"
   ]
  },
  {
   "cell_type": "markdown",
   "id": "36baf272",
   "metadata": {},
   "source": [
    "## Target data"
   ]
  },
  {
   "cell_type": "code",
   "execution_count": 4,
   "id": "1a3d21dc",
   "metadata": {},
   "outputs": [],
   "source": [
    "data_file = cfm[\"target_data_raw\"]\n",
    "df = pd.read_csv(data_file)"
   ]
  },
  {
   "cell_type": "code",
   "execution_count": null,
   "id": "41fc330e",
   "metadata": {},
   "outputs": [],
   "source": [
    "# Create a mask: True if value is not NaN\n",
    "mask = df[\"DE11\"].notna()\n",
    "\n",
    "# Assign a group id: whenever a NaN occurs, the group number increases\n",
    "groups = mask.ne(mask.shift()).cumsum()\n",
    "\n",
    "# Filter only groups where values are numbers, then count their sizes\n",
    "lengths = df[mask].groupby(groups).size()\n",
    "\n",
    "# Calculate the average length\n",
    "average_length = lengths.mean()"
   ]
  },
  {
   "cell_type": "code",
   "execution_count": null,
   "id": "2ea642ed",
   "metadata": {},
   "outputs": [
    {
     "name": "stdout",
     "output_type": "stream",
     "text": [
      "Average sequence length: 12.860486946318568\n"
     ]
    }
   ],
   "source": [
    "print(\"Average sequence length:\", average_length)"
   ]
  },
  {
   "cell_type": "code",
   "execution_count": null,
   "id": "0e16d6f5",
   "metadata": {},
   "outputs": [
    {
     "data": {
      "text/plain": [
       "np.float64(0.10664560958363106)"
      ]
     },
     "execution_count": 38,
     "metadata": {},
     "output_type": "execute_result"
    }
   ],
   "source": [
    "df[\"DED5\"].fillna(0).mean()"
   ]
  },
  {
   "cell_type": "code",
   "execution_count": 190,
   "id": "079b23c8",
   "metadata": {},
   "outputs": [],
   "source": [
    "# filter for midnight and day\n",
    "df_day = df[df['Date'].str.endswith('12:00:00')].copy()\n",
    "df_day['Date'] = df_day['Date'].str[:-9]\n",
    "\n",
    "# filter for 1980 to 2024\n",
    "df_day = df_day[(df_day['Date'] >= '1980-01-01') & (df_day['Date'] <= '2024-12-31')]"
   ]
  },
  {
   "cell_type": "markdown",
   "id": "6b20e294",
   "metadata": {},
   "source": [
    "## Training data"
   ]
  },
  {
   "cell_type": "code",
   "execution_count": 2,
   "id": "66634c12",
   "metadata": {},
   "outputs": [
    {
     "ename": "KeyboardInterrupt",
     "evalue": "",
     "output_type": "error",
     "traceback": [
      "\u001b[31m---------------------------------------------------------------------------\u001b[39m",
      "\u001b[31mKeyboardInterrupt\u001b[39m                         Traceback (most recent call last)",
      "\u001b[36mCell\u001b[39m\u001b[36m \u001b[39m\u001b[32mIn[2]\u001b[39m\u001b[32m, line 1\u001b[39m\n\u001b[32m----> \u001b[39m\u001b[32m1\u001b[39m ds_era5 = \u001b[43mxr\u001b[49m\u001b[43m.\u001b[49m\u001b[43mopen_zarr\u001b[49m\u001b[43m(\u001b[49m\u001b[33;43m'\u001b[39;49m\u001b[33;43mgs://weatherbench2/datasets/era5/1959-2023_01_10-wb13-6h-1440x721_with_derived_variables.zarr\u001b[39;49m\u001b[33;43m'\u001b[39;49m\u001b[43m)\u001b[49m\n\u001b[32m      2\u001b[39m ds_pangu = xr.open_zarr(\u001b[33m'\u001b[39m\u001b[33mgs://weatherbench2/datasets/pangu/2018-2022_0012_0p25.zarr\u001b[39m\u001b[33m'\u001b[39m)\n\u001b[32m      3\u001b[39m ds_neuralgcm = xr.open_zarr(\u001b[33m'\u001b[39m\u001b[33mgs://weatherbench2/datasets/neuralgcm_deterministic/2020-512x256.zarr\u001b[39m\u001b[33m'\u001b[39m)\n",
      "\u001b[36mFile \u001b[39m\u001b[32mc:\\Users\\Jan Kraayvanger\\PhD\\FENCAST\\.venv\\Lib\\site-packages\\xarray\\backends\\zarr.py:1581\u001b[39m, in \u001b[36mopen_zarr\u001b[39m\u001b[34m(store, group, synchronizer, chunks, decode_cf, mask_and_scale, decode_times, concat_characters, decode_coords, drop_variables, consolidated, overwrite_encoded_chunks, chunk_store, storage_options, decode_timedelta, use_cftime, zarr_version, zarr_format, use_zarr_fill_value_as_mask, chunked_array_type, from_array_kwargs, create_default_indexes, **kwargs)\u001b[39m\n\u001b[32m   1567\u001b[39m     \u001b[38;5;28;01mraise\u001b[39;00m \u001b[38;5;167;01mTypeError\u001b[39;00m(\n\u001b[32m   1568\u001b[39m         \u001b[33m\"\u001b[39m\u001b[33mopen_zarr() got unexpected keyword arguments \u001b[39m\u001b[33m\"\u001b[39m + \u001b[33m\"\u001b[39m\u001b[33m,\u001b[39m\u001b[33m\"\u001b[39m.join(kwargs.keys())\n\u001b[32m   1569\u001b[39m     )\n\u001b[32m   1571\u001b[39m backend_kwargs = {\n\u001b[32m   1572\u001b[39m     \u001b[33m\"\u001b[39m\u001b[33msynchronizer\u001b[39m\u001b[33m\"\u001b[39m: synchronizer,\n\u001b[32m   1573\u001b[39m     \u001b[33m\"\u001b[39m\u001b[33mconsolidated\u001b[39m\u001b[33m\"\u001b[39m: consolidated,\n\u001b[32m   (...)\u001b[39m\u001b[32m   1578\u001b[39m     \u001b[33m\"\u001b[39m\u001b[33mzarr_format\u001b[39m\u001b[33m\"\u001b[39m: zarr_format,\n\u001b[32m   1579\u001b[39m }\n\u001b[32m-> \u001b[39m\u001b[32m1581\u001b[39m ds = \u001b[43mopen_dataset\u001b[49m\u001b[43m(\u001b[49m\n\u001b[32m   1582\u001b[39m \u001b[43m    \u001b[49m\u001b[43mfilename_or_obj\u001b[49m\u001b[43m=\u001b[49m\u001b[43mstore\u001b[49m\u001b[43m,\u001b[49m\n\u001b[32m   1583\u001b[39m \u001b[43m    \u001b[49m\u001b[43mgroup\u001b[49m\u001b[43m=\u001b[49m\u001b[43mgroup\u001b[49m\u001b[43m,\u001b[49m\n\u001b[32m   1584\u001b[39m \u001b[43m    \u001b[49m\u001b[43mdecode_cf\u001b[49m\u001b[43m=\u001b[49m\u001b[43mdecode_cf\u001b[49m\u001b[43m,\u001b[49m\n\u001b[32m   1585\u001b[39m \u001b[43m    \u001b[49m\u001b[43mmask_and_scale\u001b[49m\u001b[43m=\u001b[49m\u001b[43mmask_and_scale\u001b[49m\u001b[43m,\u001b[49m\n\u001b[32m   1586\u001b[39m \u001b[43m    \u001b[49m\u001b[43mdecode_times\u001b[49m\u001b[43m=\u001b[49m\u001b[43mdecode_times\u001b[49m\u001b[43m,\u001b[49m\n\u001b[32m   1587\u001b[39m \u001b[43m    \u001b[49m\u001b[43mconcat_characters\u001b[49m\u001b[43m=\u001b[49m\u001b[43mconcat_characters\u001b[49m\u001b[43m,\u001b[49m\n\u001b[32m   1588\u001b[39m \u001b[43m    \u001b[49m\u001b[43mdecode_coords\u001b[49m\u001b[43m=\u001b[49m\u001b[43mdecode_coords\u001b[49m\u001b[43m,\u001b[49m\n\u001b[32m   1589\u001b[39m \u001b[43m    \u001b[49m\u001b[43mengine\u001b[49m\u001b[43m=\u001b[49m\u001b[33;43m\"\u001b[39;49m\u001b[33;43mzarr\u001b[39;49m\u001b[33;43m\"\u001b[39;49m\u001b[43m,\u001b[49m\n\u001b[32m   1590\u001b[39m \u001b[43m    \u001b[49m\u001b[43mchunks\u001b[49m\u001b[43m=\u001b[49m\u001b[43mchunks\u001b[49m\u001b[43m,\u001b[49m\n\u001b[32m   1591\u001b[39m \u001b[43m    \u001b[49m\u001b[43mdrop_variables\u001b[49m\u001b[43m=\u001b[49m\u001b[43mdrop_variables\u001b[49m\u001b[43m,\u001b[49m\n\u001b[32m   1592\u001b[39m \u001b[43m    \u001b[49m\u001b[43mcreate_default_indexes\u001b[49m\u001b[43m=\u001b[49m\u001b[43mcreate_default_indexes\u001b[49m\u001b[43m,\u001b[49m\n\u001b[32m   1593\u001b[39m \u001b[43m    \u001b[49m\u001b[43mchunked_array_type\u001b[49m\u001b[43m=\u001b[49m\u001b[43mchunked_array_type\u001b[49m\u001b[43m,\u001b[49m\n\u001b[32m   1594\u001b[39m \u001b[43m    \u001b[49m\u001b[43mfrom_array_kwargs\u001b[49m\u001b[43m=\u001b[49m\u001b[43mfrom_array_kwargs\u001b[49m\u001b[43m,\u001b[49m\n\u001b[32m   1595\u001b[39m \u001b[43m    \u001b[49m\u001b[43mbackend_kwargs\u001b[49m\u001b[43m=\u001b[49m\u001b[43mbackend_kwargs\u001b[49m\u001b[43m,\u001b[49m\n\u001b[32m   1596\u001b[39m \u001b[43m    \u001b[49m\u001b[43mdecode_timedelta\u001b[49m\u001b[43m=\u001b[49m\u001b[43mdecode_timedelta\u001b[49m\u001b[43m,\u001b[49m\n\u001b[32m   1597\u001b[39m \u001b[43m    \u001b[49m\u001b[43muse_cftime\u001b[49m\u001b[43m=\u001b[49m\u001b[43muse_cftime\u001b[49m\u001b[43m,\u001b[49m\n\u001b[32m   1598\u001b[39m \u001b[43m    \u001b[49m\u001b[43mzarr_version\u001b[49m\u001b[43m=\u001b[49m\u001b[43mzarr_version\u001b[49m\u001b[43m,\u001b[49m\n\u001b[32m   1599\u001b[39m \u001b[43m    \u001b[49m\u001b[43muse_zarr_fill_value_as_mask\u001b[49m\u001b[43m=\u001b[49m\u001b[43muse_zarr_fill_value_as_mask\u001b[49m\u001b[43m,\u001b[49m\n\u001b[32m   1600\u001b[39m \u001b[43m\u001b[49m\u001b[43m)\u001b[49m\n\u001b[32m   1601\u001b[39m \u001b[38;5;28;01mreturn\u001b[39;00m ds\n",
      "\u001b[36mFile \u001b[39m\u001b[32mc:\\Users\\Jan Kraayvanger\\PhD\\FENCAST\\.venv\\Lib\\site-packages\\xarray\\backends\\api.py:760\u001b[39m, in \u001b[36mopen_dataset\u001b[39m\u001b[34m(filename_or_obj, engine, chunks, cache, decode_cf, mask_and_scale, decode_times, decode_timedelta, use_cftime, concat_characters, decode_coords, drop_variables, create_default_indexes, inline_array, chunked_array_type, from_array_kwargs, backend_kwargs, **kwargs)\u001b[39m\n\u001b[32m    748\u001b[39m decoders = _resolve_decoders_kwargs(\n\u001b[32m    749\u001b[39m     decode_cf,\n\u001b[32m    750\u001b[39m     open_backend_dataset_parameters=backend.open_dataset_parameters,\n\u001b[32m   (...)\u001b[39m\u001b[32m    756\u001b[39m     decode_coords=decode_coords,\n\u001b[32m    757\u001b[39m )\n\u001b[32m    759\u001b[39m overwrite_encoded_chunks = kwargs.pop(\u001b[33m\"\u001b[39m\u001b[33moverwrite_encoded_chunks\u001b[39m\u001b[33m\"\u001b[39m, \u001b[38;5;28;01mNone\u001b[39;00m)\n\u001b[32m--> \u001b[39m\u001b[32m760\u001b[39m backend_ds = \u001b[43mbackend\u001b[49m\u001b[43m.\u001b[49m\u001b[43mopen_dataset\u001b[49m\u001b[43m(\u001b[49m\n\u001b[32m    761\u001b[39m \u001b[43m    \u001b[49m\u001b[43mfilename_or_obj\u001b[49m\u001b[43m,\u001b[49m\n\u001b[32m    762\u001b[39m \u001b[43m    \u001b[49m\u001b[43mdrop_variables\u001b[49m\u001b[43m=\u001b[49m\u001b[43mdrop_variables\u001b[49m\u001b[43m,\u001b[49m\n\u001b[32m    763\u001b[39m \u001b[43m    \u001b[49m\u001b[43m*\u001b[49m\u001b[43m*\u001b[49m\u001b[43mdecoders\u001b[49m\u001b[43m,\u001b[49m\n\u001b[32m    764\u001b[39m \u001b[43m    \u001b[49m\u001b[43m*\u001b[49m\u001b[43m*\u001b[49m\u001b[43mkwargs\u001b[49m\u001b[43m,\u001b[49m\n\u001b[32m    765\u001b[39m \u001b[43m\u001b[49m\u001b[43m)\u001b[49m\n\u001b[32m    766\u001b[39m ds = _dataset_from_backend_dataset(\n\u001b[32m    767\u001b[39m     backend_ds,\n\u001b[32m    768\u001b[39m     filename_or_obj,\n\u001b[32m   (...)\u001b[39m\u001b[32m    779\u001b[39m     **kwargs,\n\u001b[32m    780\u001b[39m )\n\u001b[32m    781\u001b[39m \u001b[38;5;28;01mreturn\u001b[39;00m ds\n",
      "\u001b[36mFile \u001b[39m\u001b[32mc:\\Users\\Jan Kraayvanger\\PhD\\FENCAST\\.venv\\Lib\\site-packages\\xarray\\backends\\zarr.py:1654\u001b[39m, in \u001b[36mZarrBackendEntrypoint.open_dataset\u001b[39m\u001b[34m(self, filename_or_obj, mask_and_scale, decode_times, concat_characters, decode_coords, drop_variables, use_cftime, decode_timedelta, group, mode, synchronizer, consolidated, chunk_store, storage_options, zarr_version, zarr_format, store, engine, use_zarr_fill_value_as_mask, cache_members)\u001b[39m\n\u001b[32m   1652\u001b[39m filename_or_obj = _normalize_path(filename_or_obj)\n\u001b[32m   1653\u001b[39m \u001b[38;5;28;01mif\u001b[39;00m \u001b[38;5;129;01mnot\u001b[39;00m store:\n\u001b[32m-> \u001b[39m\u001b[32m1654\u001b[39m     store = \u001b[43mZarrStore\u001b[49m\u001b[43m.\u001b[49m\u001b[43mopen_group\u001b[49m\u001b[43m(\u001b[49m\n\u001b[32m   1655\u001b[39m \u001b[43m        \u001b[49m\u001b[43mfilename_or_obj\u001b[49m\u001b[43m,\u001b[49m\n\u001b[32m   1656\u001b[39m \u001b[43m        \u001b[49m\u001b[43mgroup\u001b[49m\u001b[43m=\u001b[49m\u001b[43mgroup\u001b[49m\u001b[43m,\u001b[49m\n\u001b[32m   1657\u001b[39m \u001b[43m        \u001b[49m\u001b[43mmode\u001b[49m\u001b[43m=\u001b[49m\u001b[43mmode\u001b[49m\u001b[43m,\u001b[49m\n\u001b[32m   1658\u001b[39m \u001b[43m        \u001b[49m\u001b[43msynchronizer\u001b[49m\u001b[43m=\u001b[49m\u001b[43msynchronizer\u001b[49m\u001b[43m,\u001b[49m\n\u001b[32m   1659\u001b[39m \u001b[43m        \u001b[49m\u001b[43mconsolidated\u001b[49m\u001b[43m=\u001b[49m\u001b[43mconsolidated\u001b[49m\u001b[43m,\u001b[49m\n\u001b[32m   1660\u001b[39m \u001b[43m        \u001b[49m\u001b[43mconsolidate_on_close\u001b[49m\u001b[43m=\u001b[49m\u001b[38;5;28;43;01mFalse\u001b[39;49;00m\u001b[43m,\u001b[49m\n\u001b[32m   1661\u001b[39m \u001b[43m        \u001b[49m\u001b[43mchunk_store\u001b[49m\u001b[43m=\u001b[49m\u001b[43mchunk_store\u001b[49m\u001b[43m,\u001b[49m\n\u001b[32m   1662\u001b[39m \u001b[43m        \u001b[49m\u001b[43mstorage_options\u001b[49m\u001b[43m=\u001b[49m\u001b[43mstorage_options\u001b[49m\u001b[43m,\u001b[49m\n\u001b[32m   1663\u001b[39m \u001b[43m        \u001b[49m\u001b[43mzarr_version\u001b[49m\u001b[43m=\u001b[49m\u001b[43mzarr_version\u001b[49m\u001b[43m,\u001b[49m\n\u001b[32m   1664\u001b[39m \u001b[43m        \u001b[49m\u001b[43muse_zarr_fill_value_as_mask\u001b[49m\u001b[43m=\u001b[49m\u001b[38;5;28;43;01mNone\u001b[39;49;00m\u001b[43m,\u001b[49m\n\u001b[32m   1665\u001b[39m \u001b[43m        \u001b[49m\u001b[43mzarr_format\u001b[49m\u001b[43m=\u001b[49m\u001b[43mzarr_format\u001b[49m\u001b[43m,\u001b[49m\n\u001b[32m   1666\u001b[39m \u001b[43m        \u001b[49m\u001b[43mcache_members\u001b[49m\u001b[43m=\u001b[49m\u001b[43mcache_members\u001b[49m\u001b[43m,\u001b[49m\n\u001b[32m   1667\u001b[39m \u001b[43m    \u001b[49m\u001b[43m)\u001b[49m\n\u001b[32m   1669\u001b[39m store_entrypoint = StoreBackendEntrypoint()\n\u001b[32m   1670\u001b[39m \u001b[38;5;28;01mwith\u001b[39;00m close_on_error(store):\n",
      "\u001b[36mFile \u001b[39m\u001b[32mc:\\Users\\Jan Kraayvanger\\PhD\\FENCAST\\.venv\\Lib\\site-packages\\xarray\\backends\\zarr.py:714\u001b[39m, in \u001b[36mZarrStore.open_group\u001b[39m\u001b[34m(cls, store, mode, synchronizer, group, consolidated, consolidate_on_close, chunk_store, storage_options, append_dim, write_region, safe_chunks, align_chunks, zarr_version, zarr_format, use_zarr_fill_value_as_mask, write_empty, cache_members)\u001b[39m\n\u001b[32m    688\u001b[39m \u001b[38;5;129m@classmethod\u001b[39m\n\u001b[32m    689\u001b[39m \u001b[38;5;28;01mdef\u001b[39;00m\u001b[38;5;250m \u001b[39m\u001b[34mopen_group\u001b[39m(\n\u001b[32m    690\u001b[39m     \u001b[38;5;28mcls\u001b[39m,\n\u001b[32m   (...)\u001b[39m\u001b[32m    707\u001b[39m     cache_members: \u001b[38;5;28mbool\u001b[39m = \u001b[38;5;28;01mTrue\u001b[39;00m,\n\u001b[32m    708\u001b[39m ):\n\u001b[32m    709\u001b[39m     (\n\u001b[32m    710\u001b[39m         zarr_group,\n\u001b[32m    711\u001b[39m         consolidate_on_close,\n\u001b[32m    712\u001b[39m         close_store_on_close,\n\u001b[32m    713\u001b[39m         use_zarr_fill_value_as_mask,\n\u001b[32m--> \u001b[39m\u001b[32m714\u001b[39m     ) = \u001b[43m_get_open_params\u001b[49m\u001b[43m(\u001b[49m\n\u001b[32m    715\u001b[39m \u001b[43m        \u001b[49m\u001b[43mstore\u001b[49m\u001b[43m=\u001b[49m\u001b[43mstore\u001b[49m\u001b[43m,\u001b[49m\n\u001b[32m    716\u001b[39m \u001b[43m        \u001b[49m\u001b[43mmode\u001b[49m\u001b[43m=\u001b[49m\u001b[43mmode\u001b[49m\u001b[43m,\u001b[49m\n\u001b[32m    717\u001b[39m \u001b[43m        \u001b[49m\u001b[43msynchronizer\u001b[49m\u001b[43m=\u001b[49m\u001b[43msynchronizer\u001b[49m\u001b[43m,\u001b[49m\n\u001b[32m    718\u001b[39m \u001b[43m        \u001b[49m\u001b[43mgroup\u001b[49m\u001b[43m=\u001b[49m\u001b[43mgroup\u001b[49m\u001b[43m,\u001b[49m\n\u001b[32m    719\u001b[39m \u001b[43m        \u001b[49m\u001b[43mconsolidated\u001b[49m\u001b[43m=\u001b[49m\u001b[43mconsolidated\u001b[49m\u001b[43m,\u001b[49m\n\u001b[32m    720\u001b[39m \u001b[43m        \u001b[49m\u001b[43mconsolidate_on_close\u001b[49m\u001b[43m=\u001b[49m\u001b[43mconsolidate_on_close\u001b[49m\u001b[43m,\u001b[49m\n\u001b[32m    721\u001b[39m \u001b[43m        \u001b[49m\u001b[43mchunk_store\u001b[49m\u001b[43m=\u001b[49m\u001b[43mchunk_store\u001b[49m\u001b[43m,\u001b[49m\n\u001b[32m    722\u001b[39m \u001b[43m        \u001b[49m\u001b[43mstorage_options\u001b[49m\u001b[43m=\u001b[49m\u001b[43mstorage_options\u001b[49m\u001b[43m,\u001b[49m\n\u001b[32m    723\u001b[39m \u001b[43m        \u001b[49m\u001b[43mzarr_version\u001b[49m\u001b[43m=\u001b[49m\u001b[43mzarr_version\u001b[49m\u001b[43m,\u001b[49m\n\u001b[32m    724\u001b[39m \u001b[43m        \u001b[49m\u001b[43muse_zarr_fill_value_as_mask\u001b[49m\u001b[43m=\u001b[49m\u001b[43muse_zarr_fill_value_as_mask\u001b[49m\u001b[43m,\u001b[49m\n\u001b[32m    725\u001b[39m \u001b[43m        \u001b[49m\u001b[43mzarr_format\u001b[49m\u001b[43m=\u001b[49m\u001b[43mzarr_format\u001b[49m\u001b[43m,\u001b[49m\n\u001b[32m    726\u001b[39m \u001b[43m    \u001b[49m\u001b[43m)\u001b[49m\n\u001b[32m    728\u001b[39m     \u001b[38;5;28;01mreturn\u001b[39;00m \u001b[38;5;28mcls\u001b[39m(\n\u001b[32m    729\u001b[39m         zarr_group,\n\u001b[32m    730\u001b[39m         mode,\n\u001b[32m   (...)\u001b[39m\u001b[32m    739\u001b[39m         cache_members=cache_members,\n\u001b[32m    740\u001b[39m     )\n",
      "\u001b[36mFile \u001b[39m\u001b[32mc:\\Users\\Jan Kraayvanger\\PhD\\FENCAST\\.venv\\Lib\\site-packages\\xarray\\backends\\zarr.py:1862\u001b[39m, in \u001b[36m_get_open_params\u001b[39m\u001b[34m(store, mode, synchronizer, group, consolidated, consolidate_on_close, chunk_store, storage_options, zarr_version, use_zarr_fill_value_as_mask, zarr_format)\u001b[39m\n\u001b[32m   1859\u001b[39m \u001b[38;5;28;01melif\u001b[39;00m consolidated \u001b[38;5;129;01mis\u001b[39;00m \u001b[38;5;28;01mNone\u001b[39;00m:\n\u001b[32m   1860\u001b[39m     \u001b[38;5;66;03m# same but with more error handling in case no consolidated metadata found\u001b[39;00m\n\u001b[32m   1861\u001b[39m     \u001b[38;5;28;01mtry\u001b[39;00m:\n\u001b[32m-> \u001b[39m\u001b[32m1862\u001b[39m         zarr_root_group = \u001b[43mzarr\u001b[49m\u001b[43m.\u001b[49m\u001b[43mopen_consolidated\u001b[49m\u001b[43m(\u001b[49m\u001b[43mstore\u001b[49m\u001b[43m,\u001b[49m\u001b[43m \u001b[49m\u001b[43m*\u001b[49m\u001b[43m*\u001b[49m\u001b[43mopen_kwargs\u001b[49m\u001b[43m)\u001b[49m\n\u001b[32m   1863\u001b[39m     \u001b[38;5;28;01mexcept\u001b[39;00m (\u001b[38;5;167;01mValueError\u001b[39;00m, \u001b[38;5;167;01mKeyError\u001b[39;00m):\n\u001b[32m   1864\u001b[39m         \u001b[38;5;66;03m# ValueError in zarr-python 3.x, KeyError in 2.x.\u001b[39;00m\n\u001b[32m   1865\u001b[39m         \u001b[38;5;28;01mtry\u001b[39;00m:\n",
      "\u001b[36mFile \u001b[39m\u001b[32mc:\\Users\\Jan Kraayvanger\\PhD\\FENCAST\\.venv\\Lib\\site-packages\\zarr\\api\\synchronous.py:222\u001b[39m, in \u001b[36mopen_consolidated\u001b[39m\u001b[34m(use_consolidated, *args, **kwargs)\u001b[39m\n\u001b[32m    217\u001b[39m \u001b[38;5;28;01mdef\u001b[39;00m\u001b[38;5;250m \u001b[39m\u001b[34mopen_consolidated\u001b[39m(*args: Any, use_consolidated: Literal[\u001b[38;5;28;01mTrue\u001b[39;00m] = \u001b[38;5;28;01mTrue\u001b[39;00m, **kwargs: Any) -> Group:\n\u001b[32m    218\u001b[39m \u001b[38;5;250m    \u001b[39m\u001b[33;03m\"\"\"\u001b[39;00m\n\u001b[32m    219\u001b[39m \u001b[33;03m    Alias for :func:`open_group` with ``use_consolidated=True``.\u001b[39;00m\n\u001b[32m    220\u001b[39m \u001b[33;03m    \"\"\"\u001b[39;00m\n\u001b[32m    221\u001b[39m     \u001b[38;5;28;01mreturn\u001b[39;00m Group(\n\u001b[32m--> \u001b[39m\u001b[32m222\u001b[39m         \u001b[43msync\u001b[49m\u001b[43m(\u001b[49m\u001b[43masync_api\u001b[49m\u001b[43m.\u001b[49m\u001b[43mopen_consolidated\u001b[49m\u001b[43m(\u001b[49m\u001b[43m*\u001b[49m\u001b[43margs\u001b[49m\u001b[43m,\u001b[49m\u001b[43m \u001b[49m\u001b[43muse_consolidated\u001b[49m\u001b[43m=\u001b[49m\u001b[43muse_consolidated\u001b[49m\u001b[43m,\u001b[49m\u001b[43m \u001b[49m\u001b[43m*\u001b[49m\u001b[43m*\u001b[49m\u001b[43mkwargs\u001b[49m\u001b[43m)\u001b[49m\u001b[43m)\u001b[49m\n\u001b[32m    223\u001b[39m     )\n",
      "\u001b[36mFile \u001b[39m\u001b[32mc:\\Users\\Jan Kraayvanger\\PhD\\FENCAST\\.venv\\Lib\\site-packages\\zarr\\core\\sync.py:156\u001b[39m, in \u001b[36msync\u001b[39m\u001b[34m(coro, loop, timeout)\u001b[39m\n\u001b[32m    152\u001b[39m     \u001b[38;5;28;01mpass\u001b[39;00m\n\u001b[32m    154\u001b[39m future = asyncio.run_coroutine_threadsafe(_runner(coro), loop)\n\u001b[32m--> \u001b[39m\u001b[32m156\u001b[39m finished, unfinished = \u001b[43mwait\u001b[49m\u001b[43m(\u001b[49m\u001b[43m[\u001b[49m\u001b[43mfuture\u001b[49m\u001b[43m]\u001b[49m\u001b[43m,\u001b[49m\u001b[43m \u001b[49m\u001b[43mreturn_when\u001b[49m\u001b[43m=\u001b[49m\u001b[43masyncio\u001b[49m\u001b[43m.\u001b[49m\u001b[43mALL_COMPLETED\u001b[49m\u001b[43m,\u001b[49m\u001b[43m \u001b[49m\u001b[43mtimeout\u001b[49m\u001b[43m=\u001b[49m\u001b[43mtimeout\u001b[49m\u001b[43m)\u001b[49m\n\u001b[32m    157\u001b[39m \u001b[38;5;28;01mif\u001b[39;00m \u001b[38;5;28mlen\u001b[39m(unfinished) > \u001b[32m0\u001b[39m:\n\u001b[32m    158\u001b[39m     \u001b[38;5;28;01mraise\u001b[39;00m \u001b[38;5;167;01mTimeoutError\u001b[39;00m(\u001b[33mf\u001b[39m\u001b[33m\"\u001b[39m\u001b[33mCoroutine \u001b[39m\u001b[38;5;132;01m{\u001b[39;00mcoro\u001b[38;5;132;01m}\u001b[39;00m\u001b[33m failed to finish within \u001b[39m\u001b[38;5;132;01m{\u001b[39;00mtimeout\u001b[38;5;132;01m}\u001b[39;00m\u001b[33m s\u001b[39m\u001b[33m\"\u001b[39m)\n",
      "\u001b[36mFile \u001b[39m\u001b[32mC:\\Program Files\\WindowsApps\\PythonSoftwareFoundation.Python.3.13_3.13.2032.0_x64__qbz5n2kfra8p0\\Lib\\concurrent\\futures\\_base.py:305\u001b[39m, in \u001b[36mwait\u001b[39m\u001b[34m(fs, timeout, return_when)\u001b[39m\n\u001b[32m    301\u001b[39m         \u001b[38;5;28;01mreturn\u001b[39;00m DoneAndNotDoneFutures(done, not_done)\n\u001b[32m    303\u001b[39m     waiter = _create_and_install_waiters(fs, return_when)\n\u001b[32m--> \u001b[39m\u001b[32m305\u001b[39m \u001b[43mwaiter\u001b[49m\u001b[43m.\u001b[49m\u001b[43mevent\u001b[49m\u001b[43m.\u001b[49m\u001b[43mwait\u001b[49m\u001b[43m(\u001b[49m\u001b[43mtimeout\u001b[49m\u001b[43m)\u001b[49m\n\u001b[32m    306\u001b[39m \u001b[38;5;28;01mfor\u001b[39;00m f \u001b[38;5;129;01min\u001b[39;00m fs:\n\u001b[32m    307\u001b[39m     \u001b[38;5;28;01mwith\u001b[39;00m f._condition:\n",
      "\u001b[36mFile \u001b[39m\u001b[32mC:\\Program Files\\WindowsApps\\PythonSoftwareFoundation.Python.3.13_3.13.2032.0_x64__qbz5n2kfra8p0\\Lib\\threading.py:659\u001b[39m, in \u001b[36mEvent.wait\u001b[39m\u001b[34m(self, timeout)\u001b[39m\n\u001b[32m    657\u001b[39m signaled = \u001b[38;5;28mself\u001b[39m._flag\n\u001b[32m    658\u001b[39m \u001b[38;5;28;01mif\u001b[39;00m \u001b[38;5;129;01mnot\u001b[39;00m signaled:\n\u001b[32m--> \u001b[39m\u001b[32m659\u001b[39m     signaled = \u001b[38;5;28;43mself\u001b[39;49m\u001b[43m.\u001b[49m\u001b[43m_cond\u001b[49m\u001b[43m.\u001b[49m\u001b[43mwait\u001b[49m\u001b[43m(\u001b[49m\u001b[43mtimeout\u001b[49m\u001b[43m)\u001b[49m\n\u001b[32m    660\u001b[39m \u001b[38;5;28;01mreturn\u001b[39;00m signaled\n",
      "\u001b[36mFile \u001b[39m\u001b[32mC:\\Program Files\\WindowsApps\\PythonSoftwareFoundation.Python.3.13_3.13.2032.0_x64__qbz5n2kfra8p0\\Lib\\threading.py:359\u001b[39m, in \u001b[36mCondition.wait\u001b[39m\u001b[34m(self, timeout)\u001b[39m\n\u001b[32m    357\u001b[39m \u001b[38;5;28;01mtry\u001b[39;00m:    \u001b[38;5;66;03m# restore state no matter what (e.g., KeyboardInterrupt)\u001b[39;00m\n\u001b[32m    358\u001b[39m     \u001b[38;5;28;01mif\u001b[39;00m timeout \u001b[38;5;129;01mis\u001b[39;00m \u001b[38;5;28;01mNone\u001b[39;00m:\n\u001b[32m--> \u001b[39m\u001b[32m359\u001b[39m         \u001b[43mwaiter\u001b[49m\u001b[43m.\u001b[49m\u001b[43macquire\u001b[49m\u001b[43m(\u001b[49m\u001b[43m)\u001b[49m\n\u001b[32m    360\u001b[39m         gotit = \u001b[38;5;28;01mTrue\u001b[39;00m\n\u001b[32m    361\u001b[39m     \u001b[38;5;28;01melse\u001b[39;00m:\n",
      "\u001b[31mKeyboardInterrupt\u001b[39m: "
     ]
    }
   ],
   "source": [
    "ds_era5 = xr.open_zarr('gs://weatherbench2/datasets/era5/1959-2023_01_10-wb13-6h-1440x721_with_derived_variables.zarr')\n",
    "ds_pangu = xr.open_zarr('gs://weatherbench2/datasets/pangu/2018-2022_0012_0p25.zarr')\n",
    "ds_neuralgcm = xr.open_zarr('gs://weatherbench2/datasets/neuralgcm_deterministic/2020-512x256.zarr')\n",
    "ds_graphcast = xr.open_zarr('gs://weatherbench2/datasets/graphcast/2020/date_range_2019-11-16_2021-02-01_12_hours_derived.zarr')\n",
    "ds_era5_hour = xr.open_zarr('gs://weatherbench2/datasets/era5/1959-2023_01_10-full_37-1h-0p25deg-chunk-1.zarr')"
   ]
  },
  {
   "cell_type": "code",
   "execution_count": 3,
   "id": "9ae9f618",
   "metadata": {},
   "outputs": [
    {
     "name": "stdout",
     "output_type": "stream",
     "text": [
      "          Variables present in\n",
      "All datasets           All but neuralgcm     \n",
      "--------------------------------------------\n",
      "geopotential           10m_u_component_of_wind\n",
      "specific_humidity      10m_v_component_of_wind\n",
      "temperature            10m_wind_speed\n",
      "u_component_of_wind    2m_temperature\n",
      "v_component_of_wind    geopotential\n",
      "wind_speed             mean_sea_level_pressure\n",
      "                       specific_humidity\n",
      "                       temperature\n",
      "                       u_component_of_wind\n",
      "                       v_component_of_wind\n",
      "                       wind_speed\n"
     ]
    }
   ],
   "source": [
    "# Check which variables are in all datasets\n",
    "valid_variables1 = [v for v in ds_era5.data_vars if \n",
    "                   #v in ds_era5_hour.data_vars and\n",
    "                   v in ds_pangu.data_vars and \n",
    "                   v in ds_neuralgcm.data_vars and \n",
    "                   v in ds_graphcast.data_vars]\n",
    "\n",
    "valid_variables2 = [v for v in ds_pangu.data_vars if \n",
    "                   v in ds_era5.data_vars and \n",
    "                   #v in ds_era5_hour.data_vars and\n",
    "                   #v in ds_neuralgcm.data_vars and \n",
    "                   v in ds_graphcast.data_vars]\n",
    "print(\"          Variables present in\")\n",
    "print(f\"{\"All datasets\":<{22}} {\"All but neuralgcm\":<{22}}\")\n",
    "print(\"-\" * (22 + 22))\n",
    "for a, b in zip_longest(valid_variables1, valid_variables2, fillvalue=\"\"):\n",
    "    print(f\"{a:<22} {b}\")"
   ]
  },
  {
   "cell_type": "code",
   "execution_count": 4,
   "id": "3f27e663",
   "metadata": {},
   "outputs": [
    {
     "data": {
      "text/plain": [
       "['10m_u_component_of_wind',\n",
       " '10m_v_component_of_wind',\n",
       " '2m_dewpoint_temperature',\n",
       " '2m_temperature',\n",
       " 'angle_of_sub_gridscale_orography',\n",
       " 'anisotropy_of_sub_gridscale_orography',\n",
       " 'boundary_layer_height',\n",
       " 'geopotential',\n",
       " 'geopotential_at_surface',\n",
       " 'high_vegetation_cover',\n",
       " 'lake_cover',\n",
       " 'land_sea_mask',\n",
       " 'leaf_area_index_high_vegetation',\n",
       " 'leaf_area_index_low_vegetation',\n",
       " 'low_vegetation_cover',\n",
       " 'mean_sea_level_pressure',\n",
       " 'mean_surface_latent_heat_flux',\n",
       " 'mean_surface_net_long_wave_radiation_flux',\n",
       " 'mean_surface_net_short_wave_radiation_flux',\n",
       " 'mean_surface_sensible_heat_flux',\n",
       " 'mean_top_downward_short_wave_radiation_flux',\n",
       " 'mean_top_net_long_wave_radiation_flux',\n",
       " 'mean_top_net_short_wave_radiation_flux',\n",
       " 'mean_vertically_integrated_moisture_divergence',\n",
       " 'potential_vorticity',\n",
       " 'sea_ice_cover',\n",
       " 'sea_surface_temperature',\n",
       " 'slope_of_sub_gridscale_orography',\n",
       " 'snow_depth',\n",
       " 'soil_type',\n",
       " 'specific_humidity',\n",
       " 'standard_deviation_of_filtered_subgrid_orography',\n",
       " 'standard_deviation_of_orography',\n",
       " 'surface_pressure',\n",
       " 'temperature',\n",
       " 'total_cloud_cover',\n",
       " 'total_column_water',\n",
       " 'total_column_water_vapour',\n",
       " 'total_precipitation',\n",
       " 'type_of_high_vegetation',\n",
       " 'type_of_low_vegetation',\n",
       " 'u_component_of_wind',\n",
       " 'v_component_of_wind',\n",
       " 'vertical_velocity',\n",
       " 'volumetric_soil_water_layer_1',\n",
       " 'volumetric_soil_water_layer_2',\n",
       " 'volumetric_soil_water_layer_3',\n",
       " 'volumetric_soil_water_layer_4']"
      ]
     },
     "execution_count": 4,
     "metadata": {},
     "output_type": "execute_result"
    }
   ],
   "source": [
    "[v for v in ds_era5_hour.data_vars]"
   ]
  },
  {
   "cell_type": "code",
   "execution_count": 5,
   "id": "82614d48",
   "metadata": {},
   "outputs": [
    {
     "data": {
      "text/html": [
       "<div>\n",
       "<style scoped>\n",
       "    .dataframe tbody tr th:only-of-type {\n",
       "        vertical-align: middle;\n",
       "    }\n",
       "\n",
       "    .dataframe tbody tr th {\n",
       "        vertical-align: top;\n",
       "    }\n",
       "\n",
       "    .dataframe thead th {\n",
       "        text-align: right;\n",
       "    }\n",
       "</style>\n",
       "<table border=\"1\" class=\"dataframe\">\n",
       "  <thead>\n",
       "    <tr style=\"text-align: right;\">\n",
       "      <th></th>\n",
       "      <th>Dataset</th>\n",
       "      <th>Time</th>\n",
       "      <th>Lat</th>\n",
       "      <th>Lon</th>\n",
       "      <th>Lev</th>\n",
       "      <th>Lead Time</th>\n",
       "      <th>Time Res/h</th>\n",
       "      <th>Lead Time Res/h</th>\n",
       "    </tr>\n",
       "  </thead>\n",
       "  <tbody>\n",
       "    <tr>\n",
       "      <th>0</th>\n",
       "      <td>ERA5</td>\n",
       "      <td>93544</td>\n",
       "      <td>721</td>\n",
       "      <td>1440</td>\n",
       "      <td>13</td>\n",
       "      <td>NaN</td>\n",
       "      <td>[6]</td>\n",
       "      <td>NaN</td>\n",
       "    </tr>\n",
       "    <tr>\n",
       "      <th>1</th>\n",
       "      <td>ERA5 1h</td>\n",
       "      <td>561264</td>\n",
       "      <td>721</td>\n",
       "      <td>1440</td>\n",
       "      <td>37</td>\n",
       "      <td>NaN</td>\n",
       "      <td>[1]</td>\n",
       "      <td>NaN</td>\n",
       "    </tr>\n",
       "    <tr>\n",
       "      <th>2</th>\n",
       "      <td>Pangu</td>\n",
       "      <td>3652</td>\n",
       "      <td>721</td>\n",
       "      <td>1440</td>\n",
       "      <td>13</td>\n",
       "      <td>40.0</td>\n",
       "      <td>[12]</td>\n",
       "      <td>[6]</td>\n",
       "    </tr>\n",
       "    <tr>\n",
       "      <th>3</th>\n",
       "      <td>NeuralGCM</td>\n",
       "      <td>797</td>\n",
       "      <td>256</td>\n",
       "      <td>512</td>\n",
       "      <td>37</td>\n",
       "      <td>31.0</td>\n",
       "      <td>[12]</td>\n",
       "      <td>[12]</td>\n",
       "    </tr>\n",
       "    <tr>\n",
       "      <th>4</th>\n",
       "      <td>GraphCast</td>\n",
       "      <td>886</td>\n",
       "      <td>721</td>\n",
       "      <td>1440</td>\n",
       "      <td>37</td>\n",
       "      <td>40.0</td>\n",
       "      <td>[12]</td>\n",
       "      <td>[6]</td>\n",
       "    </tr>\n",
       "  </tbody>\n",
       "</table>\n",
       "</div>"
      ],
      "text/plain": [
       "     Dataset    Time  Lat   Lon  Lev  Lead Time Time Res/h Lead Time Res/h\n",
       "0       ERA5   93544  721  1440   13        NaN        [6]             NaN\n",
       "1    ERA5 1h  561264  721  1440   37        NaN        [1]             NaN\n",
       "2      Pangu    3652  721  1440   13       40.0       [12]             [6]\n",
       "3  NeuralGCM     797  256   512   37       31.0       [12]            [12]\n",
       "4  GraphCast     886  721  1440   37       40.0       [12]             [6]"
      ]
     },
     "execution_count": 5,
     "metadata": {},
     "output_type": "execute_result"
    }
   ],
   "source": [
    "## Check dimensions and resolution of datasets\n",
    "\n",
    "datasets = {\n",
    "    \"ERA5\": ds_era5,\n",
    "    \"ERA5 1h\": ds_era5_hour,\n",
    "    \"Pangu\": ds_pangu,\n",
    "    \"NeuralGCM\": ds_neuralgcm,\n",
    "    \"GraphCast\": ds_graphcast,\n",
    "}\n",
    "\n",
    "# Collect info about dimensions per dataset\n",
    "rows = []\n",
    "for name, ds in datasets.items():\n",
    "    dims = ds.sizes  # dict: {dim_name: size}\n",
    "    # Try to find matching dims; if missing -> set to None\n",
    "    time = dims.get(\"time\") or dims.get(\"times\") or None\n",
    "    lat = dims.get(\"lat\") or dims.get(\"latitude\") or None\n",
    "    lon = dims.get(\"lon\") or dims.get(\"longitude\") or None\n",
    "    lev = dims.get(\"level\") or dims.get(\"lev\") or dims.get(\"plev\") or None\n",
    "    lead = dims.get(\"prediction_timedelta\") or dims.get(\"lead\") or None\n",
    "\n",
    "    rows.append([name, time, lat, lon, lev, lead])\n",
    "\n",
    "# Create DataFrame\n",
    "df_dims = pd.DataFrame(rows, columns=[\"Dataset\", \"Time\", \"Lat\", \"Lon\", \"Lev\", \"Lead Time\"])\n",
    "\n",
    "# find time resolutions\n",
    "for name, ds in datasets.items():\n",
    "    time = ds.coords.get(\"time\")\n",
    "    if time is not None:\n",
    "        deltas = np.diff(time.values)  # differences between consecutive times\n",
    "        unique_deltas = np.unique(deltas)\n",
    "\n",
    "        #from ns to hours\n",
    "        unique_deltas = [int(delta / np.timedelta64(1, 'h')) for delta in unique_deltas]\n",
    "        df_dims.loc[df_dims[\"Dataset\"] == name, \"Time Res/h\"] = str(unique_deltas)\n",
    "\n",
    "    lead = ds.coords.get(\"prediction_timedelta\")\n",
    "    if lead is not None:\n",
    "        deltas = np.diff(lead.values)  # differences between consecutive lead times\n",
    "        unique_deltas = np.unique(deltas)\n",
    "\n",
    "        #from ns to hours\n",
    "        unique_deltas = [int(delta / np.timedelta64(1, 'h')) for delta in unique_deltas]\n",
    "        df_dims.loc[df_dims[\"Dataset\"] == name, \"Lead Time Res/h\"] = str(unique_deltas)\n",
    " \n",
    "\n",
    "df_dims\n"
   ]
  },
  {
   "cell_type": "code",
   "execution_count": 6,
   "id": "7900f558",
   "metadata": {},
   "outputs": [],
   "source": [
    "ds_era5_de = ds_era5.sel(latitude=slice(55, 47), longitude=slice(5, 15)) # Cut out Germany from ERA5 data\n",
    "ds_era5_vars = ds_era5_de[cfm[\"feature_variables\"].keys()] # filter variables\n",
    "ds_era5_lev = ds_era5_vars.sel(level=cfm[\"feature_level\"]) # filter levels"
   ]
  },
  {
   "cell_type": "code",
   "execution_count": 3,
   "id": "3c5ca0b5",
   "metadata": {},
   "outputs": [
    {
     "name": "stdout",
     "output_type": "stream",
     "text": [
      "47.0\n"
     ]
    }
   ],
   "source": [
    "ds_era5 = xr.open_zarr(cfm[\"era5_dataset_url\"])\n",
    "# cut out region\n",
    "ds_era5 = ds_era5.sel(latitude=slice(cfm[\"feature_region\"][\"lat_max\"], cfm[\"feature_region\"][\"lat_min\"]),\n",
    "                       longitude=slice(cfm[\"feature_region\"][\"lon_min\"], cfm[\"feature_region\"][\"lon_max\"]))\n",
    "\n",
    "ds_era5 = ds_era5[cfm[\"feature_variables\"].keys()] # filter variables\n",
    "ds_era5 = ds_era5.sel(level=cfm[\"feature_level\"]) # filter levels\n",
    "ds_era5 = ds_era5.sel(time=ds_era5['time'].dt.hour == 12) # filter time to 12:00 only\n"
   ]
  },
  {
   "cell_type": "code",
   "execution_count": 6,
   "id": "d284f4a9",
   "metadata": {},
   "outputs": [
    {
     "name": "stderr",
     "output_type": "stream",
     "text": [
      "C:\\Users\\Jan Kraayvanger\\AppData\\Local\\Temp\\ipykernel_24916\\928665113.py:4: FutureWarning: zarr_version is deprecated, use zarr_format\n",
      "  ds_era5.to_zarr(output_path, mode=\"w\", zarr_version=2)\n"
     ]
    },
    {
     "name": "stdout",
     "output_type": "stream",
     "text": [
      "[                                        ] | 1% Completed | 15m 29sss\n"
     ]
    },
    {
     "ename": "KeyboardInterrupt",
     "evalue": "",
     "output_type": "error",
     "traceback": [
      "\u001b[31m---------------------------------------------------------------------------\u001b[39m",
      "\u001b[31mKeyboardInterrupt\u001b[39m                         Traceback (most recent call last)",
      "\u001b[36mCell\u001b[39m\u001b[36m \u001b[39m\u001b[32mIn[6]\u001b[39m\u001b[32m, line 4\u001b[39m\n\u001b[32m      1\u001b[39m output_path = cfg[\u001b[33m\"\u001b[39m\u001b[33mdata_processed_dir\u001b[39m\u001b[33m\"\u001b[39m] + \u001b[33m\"\u001b[39m\u001b[33m/era5_de.zarr\u001b[39m\u001b[33m\"\u001b[39m\n\u001b[32m      3\u001b[39m \u001b[38;5;28;01mwith\u001b[39;00m ProgressBar():\n\u001b[32m----> \u001b[39m\u001b[32m4\u001b[39m     \u001b[43mds_era5\u001b[49m\u001b[43m.\u001b[49m\u001b[43mto_zarr\u001b[49m\u001b[43m(\u001b[49m\u001b[43moutput_path\u001b[49m\u001b[43m,\u001b[49m\u001b[43m \u001b[49m\u001b[43mmode\u001b[49m\u001b[43m=\u001b[49m\u001b[33;43m\"\u001b[39;49m\u001b[33;43mw\u001b[39;49m\u001b[33;43m\"\u001b[39;49m\u001b[43m,\u001b[49m\u001b[43m \u001b[49m\u001b[43mzarr_version\u001b[49m\u001b[43m=\u001b[49m\u001b[32;43m2\u001b[39;49m\u001b[43m)\u001b[49m\n",
      "\u001b[36mFile \u001b[39m\u001b[32mc:\\Users\\Jan Kraayvanger\\PhD\\FENCAST\\.venv\\Lib\\site-packages\\xarray\\core\\dataset.py:2364\u001b[39m, in \u001b[36mDataset.to_zarr\u001b[39m\u001b[34m(self, store, chunk_store, mode, synchronizer, group, encoding, compute, consolidated, append_dim, region, safe_chunks, align_chunks, storage_options, zarr_version, zarr_format, write_empty_chunks, chunkmanager_store_kwargs)\u001b[39m\n\u001b[32m   2186\u001b[39m \u001b[38;5;250m\u001b[39m\u001b[33;03m\"\"\"Write dataset contents to a zarr group.\u001b[39;00m\n\u001b[32m   2187\u001b[39m \n\u001b[32m   2188\u001b[39m \u001b[33;03mZarr chunks are determined in the following way:\u001b[39;00m\n\u001b[32m   (...)\u001b[39m\u001b[32m   2360\u001b[39m \u001b[33;03m    The I/O user guide, with more details and examples.\u001b[39;00m\n\u001b[32m   2361\u001b[39m \u001b[33;03m\"\"\"\u001b[39;00m\n\u001b[32m   2362\u001b[39m \u001b[38;5;28;01mfrom\u001b[39;00m\u001b[38;5;250m \u001b[39m\u001b[34;01mxarray\u001b[39;00m\u001b[34;01m.\u001b[39;00m\u001b[34;01mbackends\u001b[39;00m\u001b[34;01m.\u001b[39;00m\u001b[34;01mapi\u001b[39;00m\u001b[38;5;250m \u001b[39m\u001b[38;5;28;01mimport\u001b[39;00m to_zarr\n\u001b[32m-> \u001b[39m\u001b[32m2364\u001b[39m \u001b[38;5;28;01mreturn\u001b[39;00m \u001b[43mto_zarr\u001b[49m\u001b[43m(\u001b[49m\u001b[43m  \u001b[49m\u001b[38;5;66;43;03m# type: ignore[call-overload,misc]\u001b[39;49;00m\n\u001b[32m   2365\u001b[39m \u001b[43m    \u001b[49m\u001b[38;5;28;43mself\u001b[39;49m\u001b[43m,\u001b[49m\n\u001b[32m   2366\u001b[39m \u001b[43m    \u001b[49m\u001b[43mstore\u001b[49m\u001b[43m=\u001b[49m\u001b[43mstore\u001b[49m\u001b[43m,\u001b[49m\n\u001b[32m   2367\u001b[39m \u001b[43m    \u001b[49m\u001b[43mchunk_store\u001b[49m\u001b[43m=\u001b[49m\u001b[43mchunk_store\u001b[49m\u001b[43m,\u001b[49m\n\u001b[32m   2368\u001b[39m \u001b[43m    \u001b[49m\u001b[43mstorage_options\u001b[49m\u001b[43m=\u001b[49m\u001b[43mstorage_options\u001b[49m\u001b[43m,\u001b[49m\n\u001b[32m   2369\u001b[39m \u001b[43m    \u001b[49m\u001b[43mmode\u001b[49m\u001b[43m=\u001b[49m\u001b[43mmode\u001b[49m\u001b[43m,\u001b[49m\n\u001b[32m   2370\u001b[39m \u001b[43m    \u001b[49m\u001b[43msynchronizer\u001b[49m\u001b[43m=\u001b[49m\u001b[43msynchronizer\u001b[49m\u001b[43m,\u001b[49m\n\u001b[32m   2371\u001b[39m \u001b[43m    \u001b[49m\u001b[43mgroup\u001b[49m\u001b[43m=\u001b[49m\u001b[43mgroup\u001b[49m\u001b[43m,\u001b[49m\n\u001b[32m   2372\u001b[39m \u001b[43m    \u001b[49m\u001b[43mencoding\u001b[49m\u001b[43m=\u001b[49m\u001b[43mencoding\u001b[49m\u001b[43m,\u001b[49m\n\u001b[32m   2373\u001b[39m \u001b[43m    \u001b[49m\u001b[43mcompute\u001b[49m\u001b[43m=\u001b[49m\u001b[43mcompute\u001b[49m\u001b[43m,\u001b[49m\n\u001b[32m   2374\u001b[39m \u001b[43m    \u001b[49m\u001b[43mconsolidated\u001b[49m\u001b[43m=\u001b[49m\u001b[43mconsolidated\u001b[49m\u001b[43m,\u001b[49m\n\u001b[32m   2375\u001b[39m \u001b[43m    \u001b[49m\u001b[43mappend_dim\u001b[49m\u001b[43m=\u001b[49m\u001b[43mappend_dim\u001b[49m\u001b[43m,\u001b[49m\n\u001b[32m   2376\u001b[39m \u001b[43m    \u001b[49m\u001b[43mregion\u001b[49m\u001b[43m=\u001b[49m\u001b[43mregion\u001b[49m\u001b[43m,\u001b[49m\n\u001b[32m   2377\u001b[39m \u001b[43m    \u001b[49m\u001b[43msafe_chunks\u001b[49m\u001b[43m=\u001b[49m\u001b[43msafe_chunks\u001b[49m\u001b[43m,\u001b[49m\n\u001b[32m   2378\u001b[39m \u001b[43m    \u001b[49m\u001b[43mzarr_version\u001b[49m\u001b[43m=\u001b[49m\u001b[43mzarr_version\u001b[49m\u001b[43m,\u001b[49m\n\u001b[32m   2379\u001b[39m \u001b[43m    \u001b[49m\u001b[43mzarr_format\u001b[49m\u001b[43m=\u001b[49m\u001b[43mzarr_format\u001b[49m\u001b[43m,\u001b[49m\n\u001b[32m   2380\u001b[39m \u001b[43m    \u001b[49m\u001b[43mwrite_empty_chunks\u001b[49m\u001b[43m=\u001b[49m\u001b[43mwrite_empty_chunks\u001b[49m\u001b[43m,\u001b[49m\n\u001b[32m   2381\u001b[39m \u001b[43m    \u001b[49m\u001b[43mchunkmanager_store_kwargs\u001b[49m\u001b[43m=\u001b[49m\u001b[43mchunkmanager_store_kwargs\u001b[49m\u001b[43m,\u001b[49m\n\u001b[32m   2382\u001b[39m \u001b[43m\u001b[49m\u001b[43m)\u001b[49m\n",
      "\u001b[36mFile \u001b[39m\u001b[32mc:\\Users\\Jan Kraayvanger\\PhD\\FENCAST\\.venv\\Lib\\site-packages\\xarray\\backends\\api.py:2464\u001b[39m, in \u001b[36mto_zarr\u001b[39m\u001b[34m(dataset, store, chunk_store, mode, synchronizer, group, encoding, compute, consolidated, append_dim, region, safe_chunks, align_chunks, storage_options, zarr_version, zarr_format, write_empty_chunks, chunkmanager_store_kwargs)\u001b[39m\n\u001b[32m   2462\u001b[39m \u001b[38;5;28;01mtry\u001b[39;00m:\n\u001b[32m   2463\u001b[39m     dump_to_store(dataset, zstore, writer, encoding=encoding)\n\u001b[32m-> \u001b[39m\u001b[32m2464\u001b[39m     writes = \u001b[43mwriter\u001b[49m\u001b[43m.\u001b[49m\u001b[43msync\u001b[49m\u001b[43m(\u001b[49m\n\u001b[32m   2465\u001b[39m \u001b[43m        \u001b[49m\u001b[43mcompute\u001b[49m\u001b[43m=\u001b[49m\u001b[43mcompute\u001b[49m\u001b[43m,\u001b[49m\u001b[43m \u001b[49m\u001b[43mchunkmanager_store_kwargs\u001b[49m\u001b[43m=\u001b[49m\u001b[43mchunkmanager_store_kwargs\u001b[49m\n\u001b[32m   2466\u001b[39m \u001b[43m    \u001b[49m\u001b[43m)\u001b[49m\n\u001b[32m   2467\u001b[39m \u001b[38;5;28;01mfinally\u001b[39;00m:\n\u001b[32m   2468\u001b[39m     \u001b[38;5;28;01mif\u001b[39;00m compute:\n",
      "\u001b[36mFile \u001b[39m\u001b[32mc:\\Users\\Jan Kraayvanger\\PhD\\FENCAST\\.venv\\Lib\\site-packages\\xarray\\backends\\common.py:412\u001b[39m, in \u001b[36mArrayWriter.sync\u001b[39m\u001b[34m(self, compute, chunkmanager_store_kwargs)\u001b[39m\n\u001b[32m    409\u001b[39m \u001b[38;5;28;01mif\u001b[39;00m chunkmanager_store_kwargs \u001b[38;5;129;01mis\u001b[39;00m \u001b[38;5;28;01mNone\u001b[39;00m:\n\u001b[32m    410\u001b[39m     chunkmanager_store_kwargs = {}\n\u001b[32m--> \u001b[39m\u001b[32m412\u001b[39m delayed_store = \u001b[43mchunkmanager\u001b[49m\u001b[43m.\u001b[49m\u001b[43mstore\u001b[49m\u001b[43m(\u001b[49m\n\u001b[32m    413\u001b[39m \u001b[43m    \u001b[49m\u001b[38;5;28;43mself\u001b[39;49m\u001b[43m.\u001b[49m\u001b[43msources\u001b[49m\u001b[43m,\u001b[49m\n\u001b[32m    414\u001b[39m \u001b[43m    \u001b[49m\u001b[38;5;28;43mself\u001b[39;49m\u001b[43m.\u001b[49m\u001b[43mtargets\u001b[49m\u001b[43m,\u001b[49m\n\u001b[32m    415\u001b[39m \u001b[43m    \u001b[49m\u001b[43mlock\u001b[49m\u001b[43m=\u001b[49m\u001b[38;5;28;43mself\u001b[39;49m\u001b[43m.\u001b[49m\u001b[43mlock\u001b[49m\u001b[43m,\u001b[49m\n\u001b[32m    416\u001b[39m \u001b[43m    \u001b[49m\u001b[43mcompute\u001b[49m\u001b[43m=\u001b[49m\u001b[43mcompute\u001b[49m\u001b[43m,\u001b[49m\n\u001b[32m    417\u001b[39m \u001b[43m    \u001b[49m\u001b[43mflush\u001b[49m\u001b[43m=\u001b[49m\u001b[38;5;28;43;01mTrue\u001b[39;49;00m\u001b[43m,\u001b[49m\n\u001b[32m    418\u001b[39m \u001b[43m    \u001b[49m\u001b[43mregions\u001b[49m\u001b[43m=\u001b[49m\u001b[38;5;28;43mself\u001b[39;49m\u001b[43m.\u001b[49m\u001b[43mregions\u001b[49m\u001b[43m,\u001b[49m\n\u001b[32m    419\u001b[39m \u001b[43m    \u001b[49m\u001b[43m*\u001b[49m\u001b[43m*\u001b[49m\u001b[43mchunkmanager_store_kwargs\u001b[49m\u001b[43m,\u001b[49m\n\u001b[32m    420\u001b[39m \u001b[43m\u001b[49m\u001b[43m)\u001b[49m\n\u001b[32m    421\u001b[39m \u001b[38;5;28mself\u001b[39m.sources = []\n\u001b[32m    422\u001b[39m \u001b[38;5;28mself\u001b[39m.targets = []\n",
      "\u001b[36mFile \u001b[39m\u001b[32mc:\\Users\\Jan Kraayvanger\\PhD\\FENCAST\\.venv\\Lib\\site-packages\\xarray\\namedarray\\daskmanager.py:247\u001b[39m, in \u001b[36mDaskManager.store\u001b[39m\u001b[34m(self, sources, targets, **kwargs)\u001b[39m\n\u001b[32m    239\u001b[39m \u001b[38;5;28;01mdef\u001b[39;00m\u001b[38;5;250m \u001b[39m\u001b[34mstore\u001b[39m(\n\u001b[32m    240\u001b[39m     \u001b[38;5;28mself\u001b[39m,\n\u001b[32m    241\u001b[39m     sources: Any | Sequence[Any],\n\u001b[32m    242\u001b[39m     targets: Any,\n\u001b[32m    243\u001b[39m     **kwargs: Any,\n\u001b[32m    244\u001b[39m ) -> Any:\n\u001b[32m    245\u001b[39m     \u001b[38;5;28;01mfrom\u001b[39;00m\u001b[38;5;250m \u001b[39m\u001b[34;01mdask\u001b[39;00m\u001b[34;01m.\u001b[39;00m\u001b[34;01marray\u001b[39;00m\u001b[38;5;250m \u001b[39m\u001b[38;5;28;01mimport\u001b[39;00m store\n\u001b[32m--> \u001b[39m\u001b[32m247\u001b[39m     \u001b[38;5;28;01mreturn\u001b[39;00m \u001b[43mstore\u001b[49m\u001b[43m(\u001b[49m\n\u001b[32m    248\u001b[39m \u001b[43m        \u001b[49m\u001b[43msources\u001b[49m\u001b[43m=\u001b[49m\u001b[43msources\u001b[49m\u001b[43m,\u001b[49m\n\u001b[32m    249\u001b[39m \u001b[43m        \u001b[49m\u001b[43mtargets\u001b[49m\u001b[43m=\u001b[49m\u001b[43mtargets\u001b[49m\u001b[43m,\u001b[49m\n\u001b[32m    250\u001b[39m \u001b[43m        \u001b[49m\u001b[43m*\u001b[49m\u001b[43m*\u001b[49m\u001b[43mkwargs\u001b[49m\u001b[43m,\u001b[49m\n\u001b[32m    251\u001b[39m \u001b[43m    \u001b[49m\u001b[43m)\u001b[49m\n",
      "\u001b[36mFile \u001b[39m\u001b[32mc:\\Users\\Jan Kraayvanger\\PhD\\FENCAST\\.venv\\Lib\\site-packages\\dask\\array\\core.py:1221\u001b[39m, in \u001b[36mstore\u001b[39m\u001b[34m(***failed resolving arguments***)\u001b[39m\n\u001b[32m   1218\u001b[39m \u001b[38;5;28;01mif\u001b[39;00m \u001b[38;5;129;01mnot\u001b[39;00m return_stored:\n\u001b[32m   1219\u001b[39m     \u001b[38;5;28;01mimport\u001b[39;00m\u001b[38;5;250m \u001b[39m\u001b[34;01mdask\u001b[39;00m\n\u001b[32m-> \u001b[39m\u001b[32m1221\u001b[39m     \u001b[43mdask\u001b[49m\u001b[43m.\u001b[49m\u001b[43mcompute\u001b[49m\u001b[43m(\u001b[49m\u001b[43marrays\u001b[49m\u001b[43m,\u001b[49m\u001b[43m \u001b[49m\u001b[43m*\u001b[49m\u001b[43m*\u001b[49m\u001b[43mkwargs\u001b[49m\u001b[43m)\u001b[49m\n\u001b[32m   1222\u001b[39m     \u001b[38;5;28;01mreturn\u001b[39;00m \u001b[38;5;28;01mNone\u001b[39;00m\n\u001b[32m   1223\u001b[39m \u001b[38;5;28;01melse\u001b[39;00m:\n",
      "\u001b[36mFile \u001b[39m\u001b[32mc:\\Users\\Jan Kraayvanger\\PhD\\FENCAST\\.venv\\Lib\\site-packages\\dask\\base.py:681\u001b[39m, in \u001b[36mcompute\u001b[39m\u001b[34m(traverse, optimize_graph, scheduler, get, *args, **kwargs)\u001b[39m\n\u001b[32m    678\u001b[39m     expr = expr.optimize()\n\u001b[32m    679\u001b[39m     keys = \u001b[38;5;28mlist\u001b[39m(flatten(expr.__dask_keys__()))\n\u001b[32m--> \u001b[39m\u001b[32m681\u001b[39m     results = \u001b[43mschedule\u001b[49m\u001b[43m(\u001b[49m\u001b[43mexpr\u001b[49m\u001b[43m,\u001b[49m\u001b[43m \u001b[49m\u001b[43mkeys\u001b[49m\u001b[43m,\u001b[49m\u001b[43m \u001b[49m\u001b[43m*\u001b[49m\u001b[43m*\u001b[49m\u001b[43mkwargs\u001b[49m\u001b[43m)\u001b[49m\n\u001b[32m    683\u001b[39m \u001b[38;5;28;01mreturn\u001b[39;00m repack(results)\n",
      "\u001b[36mFile \u001b[39m\u001b[32mC:\\Program Files\\WindowsApps\\PythonSoftwareFoundation.Python.3.13_3.13.2032.0_x64__qbz5n2kfra8p0\\Lib\\queue.py:210\u001b[39m, in \u001b[36mQueue.get\u001b[39m\u001b[34m(self, block, timeout)\u001b[39m\n\u001b[32m    208\u001b[39m \u001b[38;5;28;01mif\u001b[39;00m remaining <= \u001b[32m0.0\u001b[39m:\n\u001b[32m    209\u001b[39m     \u001b[38;5;28;01mraise\u001b[39;00m Empty\n\u001b[32m--> \u001b[39m\u001b[32m210\u001b[39m \u001b[38;5;28;43mself\u001b[39;49m\u001b[43m.\u001b[49m\u001b[43mnot_empty\u001b[49m\u001b[43m.\u001b[49m\u001b[43mwait\u001b[49m\u001b[43m(\u001b[49m\u001b[43mremaining\u001b[49m\u001b[43m)\u001b[49m\n\u001b[32m    211\u001b[39m \u001b[38;5;28;01mif\u001b[39;00m \u001b[38;5;28mself\u001b[39m.is_shutdown \u001b[38;5;129;01mand\u001b[39;00m \u001b[38;5;129;01mnot\u001b[39;00m \u001b[38;5;28mself\u001b[39m._qsize():\n\u001b[32m    212\u001b[39m     \u001b[38;5;28;01mraise\u001b[39;00m ShutDown\n",
      "\u001b[36mFile \u001b[39m\u001b[32mC:\\Program Files\\WindowsApps\\PythonSoftwareFoundation.Python.3.13_3.13.2032.0_x64__qbz5n2kfra8p0\\Lib\\threading.py:363\u001b[39m, in \u001b[36mCondition.wait\u001b[39m\u001b[34m(self, timeout)\u001b[39m\n\u001b[32m    361\u001b[39m \u001b[38;5;28;01melse\u001b[39;00m:\n\u001b[32m    362\u001b[39m     \u001b[38;5;28;01mif\u001b[39;00m timeout > \u001b[32m0\u001b[39m:\n\u001b[32m--> \u001b[39m\u001b[32m363\u001b[39m         gotit = \u001b[43mwaiter\u001b[49m\u001b[43m.\u001b[49m\u001b[43macquire\u001b[49m\u001b[43m(\u001b[49m\u001b[38;5;28;43;01mTrue\u001b[39;49;00m\u001b[43m,\u001b[49m\u001b[43m \u001b[49m\u001b[43mtimeout\u001b[49m\u001b[43m)\u001b[49m\n\u001b[32m    364\u001b[39m     \u001b[38;5;28;01melse\u001b[39;00m:\n\u001b[32m    365\u001b[39m         gotit = waiter.acquire(\u001b[38;5;28;01mFalse\u001b[39;00m)\n",
      "\u001b[31mKeyboardInterrupt\u001b[39m: "
     ]
    }
   ],
   "source": [
    "output_path = cfg[\"data_processed_dir\"] + \"/era5_de.zarr\"\n",
    "\n",
    "with ProgressBar():\n",
    "    ds_era5.to_zarr(output_path, mode=\"w\", zarr_version=2)"
   ]
  },
  {
   "cell_type": "code",
   "execution_count": 9,
   "id": "eb7dcdfe",
   "metadata": {},
   "outputs": [
    {
     "name": "stdout",
     "output_type": "stream",
     "text": [
      "u_component_of_wind:   362.11 MB\n",
      "v_component_of_wind:   362.11 MB\n",
      "temperature    :   362.11 MB\n",
      "geopotential   :   362.11 MB\n",
      "specific_humidity:   362.11 MB\n"
     ]
    }
   ],
   "source": [
    "for var in ds_era5.data_vars:\n",
    "    size_bytes = ds_era5[var].nbytes\n",
    "    print(f\"{var:15}: {size_bytes/1024**2:8.2f} MB\")"
   ]
  }
 ],
 "metadata": {
  "kernelspec": {
   "display_name": "Python 3",
   "language": "python",
   "name": "python3"
  },
  "language_info": {
   "codemirror_mode": {
    "name": "ipython",
    "version": 3
   },
   "file_extension": ".py",
   "mimetype": "text/x-python",
   "name": "python",
   "nbconvert_exporter": "python",
   "pygments_lexer": "ipython3",
   "version": "3.13.7"
  }
 },
 "nbformat": 4,
 "nbformat_minor": 5
}
